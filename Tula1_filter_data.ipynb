{
 "cells": [
  {
   "cell_type": "code",
   "execution_count": null,
   "id": "775425dd",
   "metadata": {},
   "outputs": [],
   "source": [
    "import pandas as pd\n",
    "from tqdm.notebook import tqdm\n",
    "train = pd.read_csv('train_dataset_train.csv', sep=';', index_col=None, dtype={'PATIENT_SEX':str, 'MKB_CODE':str, 'ADRES':str, 'VISIT_MONTH_YEAR':str, 'AGE_CATEGORY':str, 'PATIENT_ID_COUNT':int})\n",
    "test = pd.read_csv('test_dataset_test.csv', sep=';', index_col=None, dtype={'PATIENT_SEX':str, 'MKB_CODE':str, 'ADRES':str, 'VISIT_MONTH_YEAR':str, 'AGE_CATEGORY':str})\n",
    "adresses = test[\"ADRES\"].unique()\n",
    "filtered_train = []\n",
    "for andres in adresses:\n",
    "    part_train = train[train[\"ADRES\"] == andres]\n",
    "    part_test = test[test[\"ADRES\"] == andres]\n",
    "    for i in tqdm(range(len(part_test))):\n",
    "        obj = part_test.iloc[i]\n",
    "        sex, code, city, age = obj[[\"PATIENT_SEX\", \"MKB_CODE\", \"ADRES\", \"AGE_CATEGORY\"]]\n",
    "        filt = part_train[(part_train[\"PATIENT_SEX\"] == sex)&(part_train[\"MKB_CODE\"] == code)&\\\n",
    "                          (part_train[\"AGE_CATEGORY\"] == age)]\n",
    "\n",
    "        filtered_train.append(filt)\n",
    "data = pd.concat(filtered_train)\n",
    "data.to_csv(\"filtered_train.csv\", sep=\";\", index=False)"
   ]
  }
 ],
 "metadata": {
  "kernelspec": {
   "display_name": "Python 3",
   "language": "python",
   "name": "python3"
  },
  "language_info": {
   "codemirror_mode": {
    "name": "ipython",
    "version": 3
   },
   "file_extension": ".py",
   "mimetype": "text/x-python",
   "name": "python",
   "nbconvert_exporter": "python",
   "pygments_lexer": "ipython3",
   "version": "3.8.8"
  }
 },
 "nbformat": 4,
 "nbformat_minor": 5
}
