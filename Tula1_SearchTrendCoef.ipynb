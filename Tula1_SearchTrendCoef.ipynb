{
 "cells": [
  {
   "cell_type": "code",
   "execution_count": null,
   "id": "271b727d",
   "metadata": {},
   "outputs": [],
   "source": [
    "import warnings\n",
    "warnings.filterwarnings(\"ignore\")\n",
    "import pandas as pd\n",
    "import numpy as np\n",
    "import matplotlib.pyplot as plt\n",
    "from tqdm.notebook import tqdm\n",
    "from datetime import datetime\n",
    "train = pd.read_csv('filtered_train.csv', sep=';', index_col=None, dtype={'PATIENT_SEX':str, 'MKB_CODE':str, 'ADRES':str, 'VISIT_MONTH_YEAR':str, 'AGE_CATEGORY':str, 'PATIENT_ID_COUNT':int})\n",
    "test = pd.read_csv('test_dataset_test.csv', sep=';', index_col=None, dtype={'PATIENT_SEX':str, 'MKB_CODE':str, 'ADRES':str, 'VISIT_MONTH_YEAR':str, 'AGE_CATEGORY':str})\n",
    "train[\"VISIT_MONTH_YEAR\"] = train[\"VISIT_MONTH_YEAR\"].apply(lambda x: datetime(int(\"20\" + x.split('.')[1]), int(x.split('.')[0]), 1))\n",
    "patients_by_dates = train.groupby(\"VISIT_MONTH_YEAR\")[\"PATIENT_ID_COUNT\"].sum()\n",
    "plt.figure(figsize=(12, 8))\n",
    "plt.plot(patients_by_dates.keys(), patients_by_dates, color=\"red\")\n",
    "plt.xlabel(\"Дата\")\n",
    "plt.ylabel(\"Кол-во заболевших\")\n",
    "_ = plt.title(\"График кол-ва заболевших в фильтрованных данных\")\n",
    "\n",
    "from pylab import rcParams\n",
    "rcParams['figure.figsize'] = 11, 9\n",
    " \n",
    "decompose = seasonal_decompose(patients_by_dates, model=\"multiplicative\")\n",
    "decompose.plot()\n",
    " \n",
    "plt.show()\n",
    "\n",
    "decompose.trend.iloc[:6] = decompose.trend.iloc[7]\n",
    "decompose.trend.iloc[-6:] = decompose.trend.iloc[-7]\n",
    "trend = decompose.trend.dropna()\n",
    "trend_coefs = []\n",
    "for i in range(len(trend)-1):\n",
    "    trend_coefs.append(trend.iloc[i+1] / trend.iloc[i])\n",
    "trend_coefs = [trend_coefs[0]]*6 + trend_coefs + [trend_coefs[-1]]*6\n",
    "import pickle\n",
    "with open(\"trend_coefs.pkl\", \"wb\") as fout:\n",
    "    pickle.dump(trend_coefs, fout)"
   ]
  }
 ],
 "metadata": {
  "kernelspec": {
   "display_name": "Python 3",
   "language": "python",
   "name": "python3"
  },
  "language_info": {
   "codemirror_mode": {
    "name": "ipython",
    "version": 3
   },
   "file_extension": ".py",
   "mimetype": "text/x-python",
   "name": "python",
   "nbconvert_exporter": "python",
   "pygments_lexer": "ipython3",
   "version": "3.8.8"
  }
 },
 "nbformat": 4,
 "nbformat_minor": 5
}
